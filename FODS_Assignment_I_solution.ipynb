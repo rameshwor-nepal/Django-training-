{
  "nbformat": 4,
  "nbformat_minor": 0,
  "metadata": {
    "colab": {
      "name": "FODS_Assignment_I  solution.ipynb",
      "provenance": [],
      "collapsed_sections": [],
      "include_colab_link": true
    },
    "kernelspec": {
      "display_name": "Python 3",
      "language": "python",
      "name": "python3"
    },
    "language_info": {
      "codemirror_mode": {
        "name": "ipython",
        "version": 3
      },
      "file_extension": ".py",
      "mimetype": "text/x-python",
      "name": "python",
      "nbconvert_exporter": "python",
      "pygments_lexer": "ipython3",
      "version": "3.7.8"
    }
  },
  "cells": [
    {
      "cell_type": "markdown",
      "metadata": {
        "id": "view-in-github",
        "colab_type": "text"
      },
      "source": [
        "<a href=\"https://colab.research.google.com/github/rameshwor-nepal/Django-training-/blob/main/FODS_Assignment_I_solution.ipynb\" target=\"_parent\"><img src=\"https://colab.research.google.com/assets/colab-badge.svg\" alt=\"Open In Colab\"/></a>"
      ]
    },
    {
      "cell_type": "markdown",
      "metadata": {
        "id": "uiK0fGWOnXcQ"
      },
      "source": [
        "Book :- \n",
        "Author :- Mark Lutz \n",
        "1. Learning Python 5th Edition O'Reilly\n",
        "2.Python Cookbook  David Beazley O'Reilly \n",
        "\n",
        "Link:- \n",
        "1. http://www.cs.uni.edu/~fienup/cs051f10/lectures/\n",
        "2. https://github.com/MrAlex6204/Books/blob/master/Learning%20Python%2C%205th%20Edition.pdf\n",
        "3. https://github.com/tomarraj008/data_books/blob/master/Python%20Cookbook%2C%203rd%20Edition.pdf\n",
        "\n"
      ]
    },
    {
      "cell_type": "markdown",
      "metadata": {
        "id": "g5RW89-P01bg"
      },
      "source": [
        "First Week Assignment \n",
        "\n",
        "Test Your Knowledge: Quiz \n",
        "\n",
        "1. What are the six main reasons that people choose to use Python?\n",
        "2. Name four notable companies or organizations using Python today.\n",
        "3. Why might you not want to use Python in an application?\n",
        "4. What can you do with Python?\n",
        "5. What’s the significance of the Python import this statement?\n",
        "6. Why does “spam” show up in so many Python examples in books and on the Web?\n",
        "7. What is your favorite color?\n",
        "\n",
        "\n",
        "Test Your Knowledge: Quiz\n",
        "1. What is the Python interpreter?\n",
        "2. What is source code?\n",
        "3. What is byte code?\n",
        "4. What is the PVM?\n",
        "5. Name two or more variations on Python’s standard execution model.\n",
        "6. How are CPython, Jython, and IronPython different?\n",
        "7. What are Stackless and PyPy?\n",
        "\n",
        "Test Your Knowledge: Quiz\n",
        "1. How can you start an interactive interpreter session?\n",
        "2. Where do you type a system command line to launch a script file?\n",
        "3. Name four or more ways to run the code saved in a script file.\n",
        "4. Name two pitfalls related to clicking file icons on Windows.\n",
        "5. Why might you need to reload a module?\n",
        "6. How do you run a script from within IDLE?\n",
        "7. Name two pitfalls related to using IDLE.\n",
        "8. What is a namespace, and how does it relate to module files?\n",
        "\n",
        "\n",
        "Test Your Knowledge: Quiz\n",
        "\n",
        "1. Name four of Python’s core data types.\n",
        "2. Why are they called “core” data types?\n",
        "3. What does “immutable” mean, and which three of Python’s core types are considered immutable?\n",
        "4. What does “sequence” mean, and which three types fall into that category?\n",
        "5. What does “mapping” mean, and which core type is a mapping?\n",
        "6. What is “polymorphism,” and why should you care?\n",
        "\n",
        "\n",
        "\n"
      ]
    },
    {
      "cell_type": "markdown",
      "metadata": {
        "id": "6kafgQs5S8WY"
      },
      "source": [
        "**Projects:-**<br>\n",
        "1. Open a Python shell, enter the following expressions, and observe the results:<br>\n",
        "a. 8<br>\n",
        "b. 8 * 2<br>\n",
        "c. 8 ** 2<br>\n",
        "d. 8/12<br>\n",
        "e. 8 // 12<br>\n",
        "f. 8/0"
      ]
    },
    {
      "cell_type": "code",
      "metadata": {
        "id": "M0vvPpdkTWOZ",
        "colab": {
          "base_uri": "https://localhost:8080/"
        },
        "outputId": "3df72ab5-058d-49c9-f04c-35e462f4e7e9"
      },
      "source": [
        "8\r\n"
      ],
      "execution_count": null,
      "outputs": [
        {
          "output_type": "execute_result",
          "data": {
            "text/plain": [
              "8"
            ]
          },
          "metadata": {
            "tags": []
          },
          "execution_count": 2
        }
      ]
    },
    {
      "cell_type": "code",
      "metadata": {
        "colab": {
          "base_uri": "https://localhost:8080/"
        },
        "id": "q4umTg1o9eZ1",
        "outputId": "c978949b-c80a-434d-db5d-5c64a67f1726"
      },
      "source": [
        "8*2"
      ],
      "execution_count": null,
      "outputs": [
        {
          "output_type": "execute_result",
          "data": {
            "text/plain": [
              "16"
            ]
          },
          "metadata": {
            "tags": []
          },
          "execution_count": 3
        }
      ]
    },
    {
      "cell_type": "code",
      "metadata": {
        "colab": {
          "base_uri": "https://localhost:8080/"
        },
        "id": "ipwcRXdf97vE",
        "outputId": "01580b5b-68e0-45f9-da97-9d088f40a276"
      },
      "source": [
        "8/12"
      ],
      "execution_count": null,
      "outputs": [
        {
          "output_type": "execute_result",
          "data": {
            "text/plain": [
              "0.6666666666666666"
            ]
          },
          "metadata": {
            "tags": []
          },
          "execution_count": 5
        }
      ]
    },
    {
      "cell_type": "code",
      "metadata": {
        "colab": {
          "base_uri": "https://localhost:8080/"
        },
        "id": "XvkYpDSG97-1",
        "outputId": "9991947a-c2dd-421a-aea8-c455d75fce32"
      },
      "source": [
        "8//12"
      ],
      "execution_count": null,
      "outputs": [
        {
          "output_type": "execute_result",
          "data": {
            "text/plain": [
              "0"
            ]
          },
          "metadata": {
            "tags": []
          },
          "execution_count": 6
        }
      ]
    },
    {
      "cell_type": "code",
      "metadata": {
        "colab": {
          "base_uri": "https://localhost:8080/",
          "height": 162
        },
        "id": "eUMObpNM-BlM",
        "outputId": "9259c223-0b42-4682-bc19-2a9fbaf398a1"
      },
      "source": [
        "8/0"
      ],
      "execution_count": null,
      "outputs": [
        {
          "output_type": "error",
          "ename": "ZeroDivisionError",
          "evalue": "ignored",
          "traceback": [
            "\u001b[0;31m---------------------------------------------------------------------------\u001b[0m",
            "\u001b[0;31mZeroDivisionError\u001b[0m                         Traceback (most recent call last)",
            "\u001b[0;32m<ipython-input-7-b75faf41dc75>\u001b[0m in \u001b[0;36m<module>\u001b[0;34m()\u001b[0m\n\u001b[0;32m----> 1\u001b[0;31m \u001b[0;36m8\u001b[0m\u001b[0;34m/\u001b[0m\u001b[0;36m0\u001b[0m\u001b[0;34m\u001b[0m\u001b[0;34m\u001b[0m\u001b[0m\n\u001b[0m",
            "\u001b[0;31mZeroDivisionError\u001b[0m: division by zero"
          ]
        }
      ]
    },
    {
      "cell_type": "markdown",
      "metadata": {
        "id": "ySRylLzXTg4L"
      },
      "source": [
        "2. Write a Python program that prints (displays) your name, address, and telephone number"
      ]
    },
    {
      "cell_type": "code",
      "metadata": {
        "id": "IC-e8BmAUMex",
        "colab": {
          "base_uri": "https://localhost:8080/"
        },
        "outputId": "0b48d012-562b-48d1-ad3e-ddfdf5a73e69"
      },
      "source": [
        "name=input(\"Enter your name:\")\r\n",
        "address=input(\"Enter your address:\")\r\n",
        "number=int(input(\"Enter your telephone number:\"))\r\n",
        "\r\n",
        "print(name)\r\n",
        "print(address)\r\n",
        "print(number)"
      ],
      "execution_count": null,
      "outputs": [
        {
          "output_type": "stream",
          "text": [
            "Enter your name:ram\n",
            "Enter your address:kapan\n",
            "Enter your telephone number:98353636\n",
            "ram\n",
            "kapan\n",
            "98353636\n"
          ],
          "name": "stdout"
        }
      ]
    },
    {
      "cell_type": "markdown",
      "metadata": {
        "id": "H-t99QCLUNap"
      },
      "source": [
        "3. Evaluate the following code at a shell prompt: print(\"Your name is\", name). Then assign name an appropriate value, and evaluate the statement again."
      ]
    },
    {
      "cell_type": "code",
      "metadata": {
        "id": "dXcXgJUSUhwR",
        "colab": {
          "base_uri": "https://localhost:8080/"
        },
        "outputId": "c434a9cb-7932-4771-bedd-e4324f36cadb"
      },
      "source": [
        "print (\"Your name is \" + name + \".\" )"
      ],
      "execution_count": null,
      "outputs": [
        {
          "output_type": "stream",
          "text": [
            "Your name is ram.\n"
          ],
          "name": "stdout"
        }
      ]
    },
    {
      "cell_type": "markdown",
      "metadata": {
        "id": "qjgWML-AUi-v"
      },
      "source": [
        "4. Write and test a program that accepts the user's name(as text) and age(as a number) as input. The program should output a sentense containing the user's name and age."
      ]
    },
    {
      "cell_type": "code",
      "metadata": {
        "id": "a3yt3ND1WkF0",
        "colab": {
          "base_uri": "https://localhost:8080/"
        },
        "outputId": "f3f21b6a-2003-4458-e85c-d1b69845a9e5"
      },
      "source": [
        "name=input(\"Enter your name:\")\r\n",
        "age=int(input(\"Enter your age:\"))\r\n",
        "print (\"Your name is \" + name + \" aand your age is \" + str(age) + \".\")"
      ],
      "execution_count": null,
      "outputs": [
        {
          "output_type": "stream",
          "text": [
            "Enter your name:ram\n",
            "Enter your age:20\n",
            "Your name is ram aand your age is 20.\n"
          ],
          "name": "stdout"
        }
      ]
    },
    {
      "cell_type": "markdown",
      "metadata": {
        "id": "Fw-qO1W9WlGW"
      },
      "source": [
        "5. Write and test a program that computes the area of a circle. This program should request a number representing  a radius as input from the user. It should use the formula 3.14*radius**2 to compute the area and then output this result suitably labeled."
      ]
    },
    {
      "cell_type": "code",
      "metadata": {
        "id": "PwqzW8U-W8fB",
        "colab": {
          "base_uri": "https://localhost:8080/"
        },
        "outputId": "c7e60d72-dd49-44cd-b537-582c24aa07d6"
      },
      "source": [
        "r=float(input(\"Enter the radius of circle:\"))\r\n",
        "pi=3.14\r\n",
        "area=pi*r**r\r\n",
        "print(\"The area of circle is \" + str(area) + \".\")"
      ],
      "execution_count": null,
      "outputs": [
        {
          "output_type": "stream",
          "text": [
            "Enter the radius of circle:2\n",
            "The area of circle is 12.56.\n"
          ],
          "name": "stdout"
        }
      ]
    },
    {
      "cell_type": "markdown",
      "metadata": {
        "id": "roHMT8eHXDFg"
      },
      "source": [
        "6. Enter an input statement using the input function at the shll prompt. When the prompt asks you for input, enter a number. Then, attempt to add 1 to that number, observe the results and explain what happened."
      ]
    },
    {
      "cell_type": "code",
      "metadata": {
        "id": "Y9danKsrXXLJ",
        "colab": {
          "base_uri": "https://localhost:8080/"
        },
        "outputId": "5eb5e3bc-19ef-4da9-a5e5-aa4a9415be57"
      },
      "source": [
        "num1 = int(input(\"enter any number:\"))\r\n",
        "num2 = num1+1\r\n",
        "print(num1)\r\n",
        "print(num2)\r\n"
      ],
      "execution_count": null,
      "outputs": [
        {
          "output_type": "stream",
          "text": [
            "enter any number:1\n",
            "1\n",
            "2\n"
          ],
          "name": "stdout"
        }
      ]
    },
    {
      "cell_type": "markdown",
      "metadata": {
        "id": "-ud9b4rIXdyO"
      },
      "source": [
        "7. Enter the expression help() at the shell prompt. Follow the instructions to browse the topics and modules."
      ]
    },
    {
      "cell_type": "code",
      "metadata": {
        "id": "Q6DP_R5hXmmS",
        "colab": {
          "base_uri": "https://localhost:8080/"
        },
        "outputId": "c71a13dc-e3f0-4978-c3ec-395182458506"
      },
      "source": [
        "help()"
      ],
      "execution_count": null,
      "outputs": [
        {
          "output_type": "stream",
          "text": [
            "\n",
            "Welcome to Python 3.7's help utility!\n",
            "\n",
            "If this is your first time using Python, you should definitely check out\n",
            "the tutorial on the Internet at https://docs.python.org/3.7/tutorial/.\n",
            "\n",
            "Enter the name of any module, keyword, or topic to get help on writing\n",
            "Python programs and using Python modules.  To quit this help utility and\n",
            "return to the interpreter, just type \"quit\".\n",
            "\n",
            "To get a list of available modules, keywords, symbols, or topics, type\n",
            "\"modules\", \"keywords\", \"symbols\", or \"topics\".  Each module also comes\n",
            "with a one-line summary of what it does; to list the modules whose name\n",
            "or summary contain a given string such as \"spam\", type \"modules spam\".\n",
            "\n",
            "help> \"keywords\"\n",
            "\n",
            "Here is a list of the Python keywords.  Enter any keyword to get more help.\n",
            "\n",
            "False               class               from                or\n",
            "None                continue            global              pass\n",
            "True                def                 if                  raise\n",
            "and                 del                 import              return\n",
            "as                  elif                in                  try\n",
            "assert              else                is                  while\n",
            "async               except              lambda              with\n",
            "await               finally             nonlocal            yield\n",
            "break               for                 not                 \n",
            "\n",
            "help> \"quit\"\n",
            "\n",
            "You are now leaving help and returning to the Python interpreter.\n",
            "If you want to ask for help on a particular object directly from the\n",
            "interpreter, you can type \"help(object)\".  Executing \"help('string')\"\n",
            "has the same effect as typing a particular string at the help> prompt.\n"
          ],
          "name": "stdout"
        }
      ]
    },
    {
      "cell_type": "markdown",
      "metadata": {
        "id": "Mh0jLr5HYCzo"
      },
      "source": [
        "8. The tax calculator program of the case study outputs a floating-point number that might show more than two digits of precision. Use the round function to modify the program to display at most two digits of precision in the output number."
      ]
    },
    {
      "cell_type": "code",
      "metadata": {
        "id": "6JN4PaojYEK4",
        "colab": {
          "base_uri": "https://localhost:8080/"
        },
        "outputId": "da447385-87d4-47ef-eec9-f21957e10ad4"
      },
      "source": [
        "# Initialize the constants\r\n",
        "TAX_RATE = 0.20\r\n",
        "STANDARD_DEDUCTION = 10000.0\r\n",
        "DEPENDENT_DEDUCTION = 3000.0\r\n",
        "\r\n",
        "# Request the inputs\r\n",
        "grossIncome = float(input(\"Enter the gross income: \"))\r\n",
        "numDependents = int(input(\"Enter the number of dependents: \"))   \r\n",
        "\r\n",
        "# Compute the income tax\r\n",
        "taxableIncome = grossIncome - STANDARD_DEDUCTION - \\\r\n",
        "DEPENDENT_DEDUCTION * numDependents\r\n",
        "incomeTax = taxableIncome * TAX_RATE\r\n",
        "\r\n",
        "# Display the income tax\r\n",
        "print(\"The income tax is $\" + str(incomeTax))"
      ],
      "execution_count": null,
      "outputs": [
        {
          "output_type": "stream",
          "text": [
            "Enter the gross income: 20\n",
            "Enter the number of dependents: 2\n",
            "The income tax is $-3196.0\n"
          ],
          "name": "stdout"
        }
      ]
    },
    {
      "cell_type": "markdown",
      "metadata": {
        "id": "SeHW1j9kYF8Q"
      },
      "source": [
        "9. You can calculate the surface area of a cube if you know the length of an edge. Write a program that takes the length of an edge(an integer) as input and prints the cube's surface area as output."
      ]
    },
    {
      "cell_type": "code",
      "metadata": {
        "id": "otcAXgxxYkx6",
        "colab": {
          "base_uri": "https://localhost:8080/"
        },
        "outputId": "f7dd0442-8a61-4662-fba6-aaac59394f49"
      },
      "source": [
        "l = int(input(\"Enter length of edge of cube:\"))\r\n",
        "area = 6*l*l\r\n",
        "print(\"The surface area of cube is \" + str(area) + \".\")\r\n"
      ],
      "execution_count": null,
      "outputs": [
        {
          "output_type": "stream",
          "text": [
            "Enter length of edge of cube:2\n",
            "The surface area of cube is 24.\n"
          ],
          "name": "stdout"
        }
      ]
    },
    {
      "cell_type": "markdown",
      "metadata": {
        "id": "O3379lCKYlcr"
      },
      "source": [
        "10.Five Star Retro Video rents VHS tapes and DVDs to the same connoisseurs who like to buy LP record albums. The store rents new videos for $3.00 a night, and oldies for $2.00 a night.\n",
        "\n",
        "Write a program that the clerks at Five Star Retro Video can use to calculate the total charge for a customer’s video rentals.\n",
        "\n",
        "The program should prompt the user for the number of each type of video and output the total cost."
      ]
    },
    {
      "cell_type": "code",
      "metadata": {
        "id": "kKoIAmUpY4dY"
      },
      "source": [
        ""
      ],
      "execution_count": null,
      "outputs": []
    },
    {
      "cell_type": "markdown",
      "metadata": {
        "id": "oBQWzZuoY9dH"
      },
      "source": [
        "11. Write a program that takes the radius of a sphere(a floating point number) as input and then outputs the sphere's diameter, circumference, surface area and volume."
      ]
    },
    {
      "cell_type": "code",
      "metadata": {
        "id": "MNAlLLYrbatP",
        "colab": {
          "base_uri": "https://localhost:8080/"
        },
        "outputId": "7a59b967-8e2f-429a-ec1d-f17ac7465e11"
      },
      "source": [
        "r = float(input(\"enter the radius of a sphere:\"))\r\n",
        "pi = 2.1314\r\n",
        "diameter = 2*r\r\n",
        "circumference = 2*pi*r\r\n",
        "surface_area = 4*pi*r*r\r\n",
        "volume = 4/3*pi*r*r*r\r\n",
        "print(\"the sphere's diameter is \" + str(diameter) + \" circumference is \" + str(circumference) +\" surface area is \" + str(surface_area) + \" and volume is \" + str(volume) + \".\")"
      ],
      "execution_count": null,
      "outputs": [
        {
          "output_type": "stream",
          "text": [
            "enter the radius of a sphere:2\n",
            "the sphere's diameter is 4.0 circumference is 8.5256 surface area is 34.1024 and volume is 22.734933333333334.\n"
          ],
          "name": "stdout"
        }
      ]
    },
    {
      "cell_type": "markdown",
      "metadata": {
        "id": "zOx3W9G8bb_2"
      },
      "source": [
        "12. Instructions An object's momentum is its mass multiplied by its velocity. Write a program that accepts an object's mass (in kilograms) and velocity (in meters per second) as inputs, and then outputs its momentum."
      ]
    },
    {
      "cell_type": "code",
      "metadata": {
        "id": "hlYAuUajdI0X",
        "colab": {
          "base_uri": "https://localhost:8080/"
        },
        "outputId": "8a739fe6-6526-408d-f8e9-5a348b493f28"
      },
      "source": [
        "mass = int(input(\"Enter the mass of an objects:\"))\r\n",
        "velocity = int(input(\"Enter the velocity :\"))\r\n",
        "momentum = mass*velocity\r\n",
        "print(momentum)"
      ],
      "execution_count": null,
      "outputs": [
        {
          "output_type": "stream",
          "text": [
            "Enter the mass of an objects:2\n",
            "Enter the velocity :2\n",
            "4\n"
          ],
          "name": "stdout"
        }
      ]
    },
    {
      "cell_type": "markdown",
      "metadata": {
        "id": "jU4yPCcrdf0D"
      },
      "source": [
        "13. The kinetic energy of a moving object is given by the formula KE = ½mv2 where m is the object’s mass and v is its velocity.\n",
        "\n",
        "Modify the program you created in Project 5 so that it prints the object’s kinetic energy as well as its momentum."
      ]
    },
    {
      "cell_type": "code",
      "metadata": {
        "id": "ocVu-KGkd9lN",
        "colab": {
          "base_uri": "https://localhost:8080/"
        },
        "outputId": "aee0a705-0118-4478-e3f3-700b867f29ab"
      },
      "source": [
        "mass = int(input(\"Enter the mass of an objects:\"))\r\n",
        "velocity = int(input(\"Enter the velocity :\"))\r\n",
        "kinetic_energy = 1/2*mass*velocity\r\n",
        "print(kinetic_energy)"
      ],
      "execution_count": null,
      "outputs": [
        {
          "output_type": "stream",
          "text": [
            "Enter the mass of an objects:2\n",
            "Enter the velocity :2\n",
            "2.0\n"
          ],
          "name": "stdout"
        }
      ]
    },
    {
      "cell_type": "markdown",
      "metadata": {
        "id": "KGUdbd0Od-TE"
      },
      "source": [
        "14. An employee’s total weekly pay equals the hourly wage multiplied by the total number of regular hours plus any overtime pay. Overtime pay equals the total overtime hours multiplied by 1.5 times the hourly wage. Write a program that takes as inputs the hourly wage, total regular hours, and total overtime hours and displays an employee’s total weekly pay."
      ]
    },
    {
      "cell_type": "code",
      "metadata": {
        "colab": {
          "base_uri": "https://localhost:8080/"
        },
        "id": "4Nr_wIgLP-n5",
        "outputId": "7a163284-e501-4552-dfcb-583e80899fe6"
      },
      "source": [
        "hourly_wage = int(input(\"Enter the hourly wage:\"))\r\n",
        "total_regular_wage = int(input(\"Enter total regular hour:\"))\r\n",
        "overtime_hour = int(input(\"Enter the overtime hour:\"))\r\n",
        "\r\n",
        "overtime_pay = int(overtime_hour*1.5*hourly_wage)\r\n",
        "\r\n",
        "total_weekly_wage = hourly_wage*total_regular_wage+overtime_pay\r\n",
        "print (\"An employee's total weekly pay is \" + str(total_weekly_wage) + \".\")"
      ],
      "execution_count": null,
      "outputs": [
        {
          "output_type": "stream",
          "text": [
            "Enter the hourly wage:200\n",
            "Enter total regular hour:8\n",
            "Enter the overtime hour:4\n",
            "An employee's total weekly pay is 2800.\n"
          ],
          "name": "stdout"
        }
      ]
    }
  ]
}